{
 "cells": [
  {
   "cell_type": "code",
   "execution_count": 23,
   "metadata": {},
   "outputs": [],
   "source": [
    "import numpy as np\n",
    "import pandas as pd\n",
    "import matplotlib.pyplot as plt"
   ]
  },
  {
   "cell_type": "code",
   "execution_count": 24,
   "metadata": {},
   "outputs": [
    {
     "name": "stdout",
     "output_type": "stream",
     "text": [
      "   SNo ObservationDate Province/State  Country/Region      Last Update  \\\n",
      "0    1      2020-01-22          Anhui  Mainland China  1/22/2020 17:00   \n",
      "1    2      2020-01-22        Beijing  Mainland China  1/22/2020 17:00   \n",
      "2    3      2020-01-22      Chongqing  Mainland China  1/22/2020 17:00   \n",
      "3    4      2020-01-22         Fujian  Mainland China  1/22/2020 17:00   \n",
      "4    5      2020-01-22          Gansu  Mainland China  1/22/2020 17:00   \n",
      "\n",
      "   Confirmed  Deaths  Recovered  \n",
      "0        1.0     0.0        0.0  \n",
      "1       14.0     0.0        0.0  \n",
      "2        6.0     0.0        0.0  \n",
      "3        1.0     0.0        0.0  \n",
      "4        0.0     0.0        0.0  \n"
     ]
    }
   ],
   "source": [
    "covid_data = pd.read_csv(\"covid_19_data.csv\",parse_dates=[\"ObservationDate\"])\n",
    "print(covid_data.head())"
   ]
  },
  {
   "cell_type": "code",
   "execution_count": 25,
   "metadata": {},
   "outputs": [
    {
     "name": "stdout",
     "output_type": "stream",
     "text": [
      "      ObservationDate      Province/State  Country/Region  Confirmed  Deaths  \\\n",
      "0          2020-01-22               Anhui  Mainland China        1.0     0.0   \n",
      "1          2020-01-22             Beijing  Mainland China       14.0     0.0   \n",
      "2          2020-01-22           Chongqing  Mainland China        6.0     0.0   \n",
      "3          2020-01-22              Fujian  Mainland China        1.0     0.0   \n",
      "4          2020-01-22               Gansu  Mainland China        0.0     0.0   \n",
      "...               ...                 ...             ...        ...     ...   \n",
      "53922      2020-06-30           Zacatecas          Mexico      908.0    96.0   \n",
      "53923      2020-06-30  Zakarpattia Oblast         Ukraine     2889.0    91.0   \n",
      "53924      2020-06-30   Zaporizhia Oblast         Ukraine      572.0    17.0   \n",
      "53925      2020-06-30            Zhejiang  Mainland China     1269.0     1.0   \n",
      "53926      2020-06-30     Zhytomyr Oblast         Ukraine     1404.0    29.0   \n",
      "\n",
      "       Recovered  \n",
      "0            0.0  \n",
      "1            0.0  \n",
      "2            0.0  \n",
      "3            0.0  \n",
      "4            0.0  \n",
      "...          ...  \n",
      "53922      626.0  \n",
      "53923      943.0  \n",
      "53924      418.0  \n",
      "53925     1267.0  \n",
      "53926      746.0  \n",
      "\n",
      "[53927 rows x 6 columns]\n"
     ]
    }
   ],
   "source": [
    "covid_data=covid_data.drop(['SNo','Last Update'], axis=1)\n",
    "print(covid_data)"
   ]
  },
  {
   "cell_type": "code",
   "execution_count": 26,
   "metadata": {},
   "outputs": [
    {
     "name": "stdout",
     "output_type": "stream",
     "text": [
      "           Confirmed        Deaths      Recovered\n",
      "count   53927.000000  53927.000000   53927.000000\n",
      "mean     8629.160625    509.275558    3567.531812\n",
      "std     28030.847686   2438.846476   20210.864799\n",
      "min         0.000000      0.000000       0.000000\n",
      "25%        76.000000      1.000000       0.000000\n",
      "50%       712.000000     11.000000      75.000000\n",
      "75%      4039.500000    124.000000     985.000000\n",
      "max    405843.000000  41128.000000  720631.000000\n"
     ]
    }
   ],
   "source": [
    "print(covid_data.describe())"
   ]
  },
  {
   "cell_type": "code",
   "execution_count": 27,
   "metadata": {},
   "outputs": [
    {
     "name": "stdout",
     "output_type": "stream",
     "text": [
      "        Date      State         Country  Confirmed Cases  Deaths  Recovered\n",
      "0 2020-01-22      Anhui  Mainland China              1.0     0.0        0.0\n",
      "1 2020-01-22    Beijing  Mainland China             14.0     0.0        0.0\n",
      "2 2020-01-22  Chongqing  Mainland China              6.0     0.0        0.0\n",
      "3 2020-01-22     Fujian  Mainland China              1.0     0.0        0.0\n",
      "4 2020-01-22      Gansu  Mainland China              0.0     0.0        0.0\n"
     ]
    }
   ],
   "source": [
    "covid_data.rename({'ObservationDate':'Date','Country/Region':'Country', 'Province/State':'State', 'Confirmed':'Confirmed Cases'}, axis=1, inplace=True)\n",
    "print(covid_data.head())"
   ]
  },
  {
   "cell_type": "code",
   "execution_count": 28,
   "metadata": {},
   "outputs": [
    {
     "name": "stdout",
     "output_type": "stream",
     "text": [
      "            Date             Country  Confirmed Cases  Deaths  Recovered\n",
      "0     2020-01-22           Hong Kong              0.0     0.0        0.0\n",
      "1     2020-01-22               Japan              2.0     0.0        0.0\n",
      "2     2020-01-22               Macau              1.0     0.0        0.0\n",
      "3     2020-01-22      Mainland China            547.0    17.0       28.0\n",
      "4     2020-01-22         South Korea              1.0     0.0        0.0\n",
      "...          ...                 ...              ...     ...        ...\n",
      "22676 2020-06-30  West Bank and Gaza           2428.0     8.0      451.0\n",
      "22677 2020-06-30      Western Sahara             10.0     1.0        8.0\n",
      "22678 2020-06-30               Yemen           1158.0   312.0      488.0\n",
      "22679 2020-06-30              Zambia           1594.0    24.0     1329.0\n",
      "22680 2020-06-30            Zimbabwe            591.0     7.0      162.0\n",
      "\n",
      "[22681 rows x 5 columns]\n"
     ]
    }
   ],
   "source": [
    "covid_data_country=covid_data.groupby(['Date','Country']).sum().reset_index()\n",
    "print(covid_data_country)"
   ]
  },
  {
   "cell_type": "code",
   "execution_count": 29,
   "metadata": {},
   "outputs": [
    {
     "name": "stdout",
     "output_type": "stream",
     "text": [
      "            Date          State Country  Confirmed Cases  Deaths  Recovered\n",
      "430   2020-01-30            NaN   India              1.0     0.0        0.0\n",
      "491   2020-01-31            NaN   India              1.0     0.0        0.0\n",
      "547   2020-02-01            NaN   India              1.0     0.0        0.0\n",
      "607   2020-02-02            NaN   India              2.0     0.0        0.0\n",
      "672   2020-02-03            NaN   India              3.0     0.0        0.0\n",
      "...          ...            ...     ...              ...     ...        ...\n",
      "53859 2020-06-30        Tripura   India           1388.0     1.0     1086.0\n",
      "53873 2020-06-30        Unknown   India           6915.0     0.0        0.0\n",
      "53880 2020-06-30  Uttar Pradesh   India          23492.0   697.0    16084.0\n",
      "53881 2020-06-30    Uttarakhand   India           2881.0    41.0     2231.0\n",
      "53907 2020-06-30    West Bengal   India          18559.0   668.0    12130.0\n",
      "\n",
      "[888 rows x 6 columns]\n"
     ]
    }
   ],
   "source": [
    "india_cases=covid_data[covid_data['Country']=='India']\n",
    "india_cases.drop(['State'],axis=1)\n",
    "print(india_cases)"
   ]
  },
  {
   "cell_type": "code",
   "execution_count": 30,
   "metadata": {},
   "outputs": [
    {
     "name": "stdout",
     "output_type": "stream",
     "text": [
      "            Date                        State  Confirmed Cases  Deaths  \\\n",
      "38811 2020-06-10  Andaman and Nicobar Islands             33.0     0.0   \n",
      "38812 2020-06-10               Andhra Pradesh           5070.0    77.0   \n",
      "38828 2020-06-10            Arunachal Pradesh             57.0     0.0   \n",
      "38829 2020-06-10                        Assam           2937.0     4.0   \n",
      "38851 2020-06-10                        Bihar           5459.0    32.0   \n",
      "...          ...                          ...              ...     ...   \n",
      "53859 2020-06-30                      Tripura           1388.0     1.0   \n",
      "53873 2020-06-30                      Unknown           6915.0     0.0   \n",
      "53880 2020-06-30                Uttar Pradesh          23492.0   697.0   \n",
      "53881 2020-06-30                  Uttarakhand           2881.0    41.0   \n",
      "53907 2020-06-30                  West Bengal          18559.0   668.0   \n",
      "\n",
      "       Recovered  \n",
      "38811       33.0  \n",
      "38812     2802.0  \n",
      "38828        1.0  \n",
      "38829     1085.0  \n",
      "38851     2864.0  \n",
      "...          ...  \n",
      "53859     1086.0  \n",
      "53873        0.0  \n",
      "53880    16084.0  \n",
      "53881     2231.0  \n",
      "53907    12130.0  \n",
      "\n",
      "[756 rows x 5 columns]\n"
     ]
    }
   ],
   "source": [
    "india_states = india_cases[india_cases['State'].notna()]\n",
    "india_states=india_states.drop(['Country'], axis=1)\n",
    "print(india_states)"
   ]
  },
  {
   "cell_type": "code",
   "execution_count": 31,
   "metadata": {},
   "outputs": [
    {
     "name": "stdout",
     "output_type": "stream",
     "text": [
      "                                       State  Confirmed Cases    Deaths  \\\n",
      "0                Andaman and Nicobar Islands           1118.0       0.0   \n",
      "1                             Andhra Pradesh         186961.0    2391.0   \n",
      "2                          Arunachal Pradesh           2608.0       6.0   \n",
      "3                                      Assam         110390.0     179.0   \n",
      "4                                      Bihar         158741.0    1034.0   \n",
      "5                                 Chandigarh           8140.0     121.0   \n",
      "6                               Chhattisgarh          43577.0     212.0   \n",
      "7                         Dadar Nagar Haveli             22.0       0.0   \n",
      "8   Dadra and Nagar Haveli and Daman and Diu           1959.0       0.0   \n",
      "9                                      Delhi        1217124.0   41415.0   \n",
      "10                                       Goa          16591.0      19.0   \n",
      "11                                   Gujarat         561328.0   33977.0   \n",
      "12                                   Haryana         210789.0    3109.0   \n",
      "13                          Himachal Pradesh          14317.0     164.0   \n",
      "14                         Jammu and Kashmir         122901.0    1583.0   \n",
      "15                                 Jharkhand          42057.0     222.0   \n",
      "16                                 Karnataka         193753.0    2838.0   \n",
      "17                                    Kerala          65949.0     433.0   \n",
      "18                                    Ladakh          14516.0      21.0   \n",
      "19                            Madhya Pradesh         246607.0   10500.0   \n",
      "20                               Maharashtra        2724463.0  120887.0   \n",
      "21                                   Manipur          15975.0       0.0   \n",
      "22                                 Meghalaya            949.0      21.0   \n",
      "23                                   Mizoram           2722.0       0.0   \n",
      "24                                  Nagaland           5432.0       0.0   \n",
      "25                                    Odisha         104449.0     298.0   \n",
      "26                                Puducherry           7467.0     141.0   \n",
      "27                                    Punjab          84393.0    1998.0   \n",
      "28                                 Rajasthan         306321.0    7066.0   \n",
      "29                                    Sikkim           1427.0       0.0   \n",
      "30                                Tamil Nadu        1240210.0   14911.0   \n",
      "31                                 Telangana         177454.0    4342.0   \n",
      "32                                   Tripura          24568.0      21.0   \n",
      "33                                   Unknown         170926.0       0.0   \n",
      "34                             Uttar Pradesh         356764.0   10674.0   \n",
      "35                               Uttarakhand          47368.0     589.0   \n",
      "36                               West Bengal         285024.0   11392.0   \n",
      "\n",
      "    Recovered  \n",
      "0       795.0  \n",
      "1     90000.0  \n",
      "2       486.0  \n",
      "3     66237.0  \n",
      "4    112420.0  \n",
      "5      6599.0  \n",
      "6     27757.0  \n",
      "7         2.0  \n",
      "8       546.0  \n",
      "9    650966.0  \n",
      "10     4414.0  \n",
      "11   398289.0  \n",
      "12   114925.0  \n",
      "13     8623.0  \n",
      "14    67742.0  \n",
      "15    26808.0  \n",
      "16   112109.0  \n",
      "17    32839.0  \n",
      "18     4668.0  \n",
      "19   183204.0  \n",
      "20  1377598.0  \n",
      "21     5293.0  \n",
      "22      670.0  \n",
      "23      412.0  \n",
      "24     2389.0  \n",
      "25    74650.0  \n",
      "26     2922.0  \n",
      "27    59161.0  \n",
      "28   236276.0  \n",
      "29      454.0  \n",
      "30   683947.0  \n",
      "31    78200.0  \n",
      "32    14379.0  \n",
      "33        0.0  \n",
      "34   226004.0  \n",
      "35    30587.0  \n",
      "36   163028.0  \n"
     ]
    }
   ],
   "source": [
    "#Cases by states\n",
    "covid_data_india_states=india_states.groupby(['State']).sum().reset_index()\n",
    "print(covid_data_india_states)"
   ]
  },
  {
   "cell_type": "code",
   "execution_count": 32,
   "metadata": {},
   "outputs": [
    {
     "name": "stdout",
     "output_type": "stream",
     "text": [
      "Jervis Bay Territory              1\n",
      "Unassigned Location, VT           1\n",
      "Spartanburg County, SC            1\n",
      "External territories              1\n",
      "Collin County, TX                 1\n",
      "                               ... \n",
      "Gansu                           163\n",
      "Hebei                           163\n",
      "Grand Princess                  216\n",
      "Diamond Princess cruise ship    258\n",
      "Unknown                         291\n",
      "Name: State, Length: 709, dtype: int64\n"
     ]
    }
   ],
   "source": [
    "covid_data['State'].value_counts().sort_values(ascending=True)\n",
    "print(covid_data['State'].value_counts().sort_values(ascending=True))"
   ]
  },
  {
   "cell_type": "code",
   "execution_count": 33,
   "metadata": {},
   "outputs": [
    {
     "name": "stdout",
     "output_type": "stream",
     "text": [
      "Republic of Ireland       1\n",
      "Channel Islands           1\n",
      "East Timor                1\n",
      "North Ireland             1\n",
      "St. Martin                1\n",
      "                       ... \n",
      "Canada                 1680\n",
      "Japan                  1759\n",
      "Russia                 2612\n",
      "Mainland China         4989\n",
      "US                     7426\n",
      "Name: Country, Length: 223, dtype: int64\n"
     ]
    }
   ],
   "source": [
    "covid_data['Country'].value_counts().sort_values(ascending=True)\n",
    "print(covid_data['Country'].value_counts().sort_values(ascending=True))"
   ]
  },
  {
   "cell_type": "code",
   "execution_count": 34,
   "metadata": {},
   "outputs": [
    {
     "name": "stdout",
     "output_type": "stream",
     "text": [
      "2020-01-22     38\n",
      "2020-01-24     41\n",
      "2020-01-25     44\n",
      "2020-01-23     46\n",
      "2020-01-26     47\n",
      "             ... \n",
      "2020-06-30    729\n",
      "2020-06-13    729\n",
      "2020-06-20    729\n",
      "2020-06-21    729\n",
      "2020-06-27    729\n",
      "Name: Date, Length: 161, dtype: int64\n"
     ]
    }
   ],
   "source": [
    "covid_data['Date'].value_counts().sort_values(ascending=True)\n",
    "print(covid_data['Date'].value_counts().sort_values(ascending=True))"
   ]
  },
  {
   "cell_type": "code",
   "execution_count": 35,
   "metadata": {},
   "outputs": [],
   "source": [
    "dates = list(covid_data['Date'].dt.day)"
   ]
  },
  {
   "cell_type": "code",
   "execution_count": 36,
   "metadata": {},
   "outputs": [
    {
     "data": {
      "text/plain": [
       "<matplotlib.axes._subplots.AxesSubplot at 0x1d99ed4b788>"
      ]
     },
     "execution_count": 36,
     "metadata": {},
     "output_type": "execute_result"
    },
    {
     "data": {
      "image/png": "[encoded data removed]",
      "text/plain": [
       "<Figure size 432x288 with 1 Axes>"
      ]
     },
     "metadata": {
      "needs_background": "light"
     },
     "output_type": "display_data"
    }
   ],
   "source": [
    "india_cases.plot(x='Date',y='Confirmed Cases')"
   ]
  },
  {
   "cell_type": "code",
   "execution_count": 37,
   "metadata": {},
   "outputs": [
    {
     "data": {
      "text/html": [
       "<div>\n",
       "<style scoped>\n",
       "    .dataframe tbody tr th:only-of-type {\n",
       "        vertical-align: middle;\n",
       "    }\n",
       "\n",
       "    .dataframe tbody tr th {\n",
       "        vertical-align: top;\n",
       "    }\n",
       "\n",
       "    .dataframe thead th {\n",
       "        text-align: right;\n",
       "    }\n",
       "</style>\n",
       "<table border=\"1\" class=\"dataframe\">\n",
       "  <thead>\n",
       "    <tr style=\"text-align: right;\">\n",
       "      <th></th>\n",
       "      <th>index</th>\n",
       "      <th>Date</th>\n",
       "      <th>State</th>\n",
       "      <th>Country</th>\n",
       "      <th>Confirmed Cases</th>\n",
       "      <th>Deaths</th>\n",
       "      <th>Recovered</th>\n",
       "    </tr>\n",
       "  </thead>\n",
       "  <tbody>\n",
       "    <tr>\n",
       "      <th>0</th>\n",
       "      <td>38811</td>\n",
       "      <td>2020-06-10</td>\n",
       "      <td>Andaman and Nicobar Islands</td>\n",
       "      <td>India</td>\n",
       "      <td>33.0</td>\n",
       "      <td>0.0</td>\n",
       "      <td>33.0</td>\n",
       "    </tr>\n",
       "    <tr>\n",
       "      <th>1</th>\n",
       "      <td>38812</td>\n",
       "      <td>2020-06-10</td>\n",
       "      <td>Andhra Pradesh</td>\n",
       "      <td>India</td>\n",
       "      <td>5070.0</td>\n",
       "      <td>77.0</td>\n",
       "      <td>2802.0</td>\n",
       "    </tr>\n",
       "    <tr>\n",
       "      <th>2</th>\n",
       "      <td>38828</td>\n",
       "      <td>2020-06-10</td>\n",
       "      <td>Arunachal Pradesh</td>\n",
       "      <td>India</td>\n",
       "      <td>57.0</td>\n",
       "      <td>0.0</td>\n",
       "      <td>1.0</td>\n",
       "    </tr>\n",
       "    <tr>\n",
       "      <th>3</th>\n",
       "      <td>38829</td>\n",
       "      <td>2020-06-10</td>\n",
       "      <td>Assam</td>\n",
       "      <td>India</td>\n",
       "      <td>2937.0</td>\n",
       "      <td>4.0</td>\n",
       "      <td>1085.0</td>\n",
       "    </tr>\n",
       "    <tr>\n",
       "      <th>4</th>\n",
       "      <td>38851</td>\n",
       "      <td>2020-06-10</td>\n",
       "      <td>Bihar</td>\n",
       "      <td>India</td>\n",
       "      <td>5459.0</td>\n",
       "      <td>32.0</td>\n",
       "      <td>2864.0</td>\n",
       "    </tr>\n",
       "    <tr>\n",
       "      <th>...</th>\n",
       "      <td>...</td>\n",
       "      <td>...</td>\n",
       "      <td>...</td>\n",
       "      <td>...</td>\n",
       "      <td>...</td>\n",
       "      <td>...</td>\n",
       "      <td>...</td>\n",
       "    </tr>\n",
       "    <tr>\n",
       "      <th>643</th>\n",
       "      <td>51672</td>\n",
       "      <td>2020-06-27</td>\n",
       "      <td>Tripura</td>\n",
       "      <td>India</td>\n",
       "      <td>1334.0</td>\n",
       "      <td>1.0</td>\n",
       "      <td>1071.0</td>\n",
       "    </tr>\n",
       "    <tr>\n",
       "      <th>644</th>\n",
       "      <td>51686</td>\n",
       "      <td>2020-06-27</td>\n",
       "      <td>Unknown</td>\n",
       "      <td>India</td>\n",
       "      <td>7839.0</td>\n",
       "      <td>0.0</td>\n",
       "      <td>0.0</td>\n",
       "    </tr>\n",
       "    <tr>\n",
       "      <th>645</th>\n",
       "      <td>51693</td>\n",
       "      <td>2020-06-27</td>\n",
       "      <td>Uttar Pradesh</td>\n",
       "      <td>India</td>\n",
       "      <td>21549.0</td>\n",
       "      <td>649.0</td>\n",
       "      <td>14215.0</td>\n",
       "    </tr>\n",
       "    <tr>\n",
       "      <th>646</th>\n",
       "      <td>51694</td>\n",
       "      <td>2020-06-27</td>\n",
       "      <td>Uttarakhand</td>\n",
       "      <td>India</td>\n",
       "      <td>2791.0</td>\n",
       "      <td>37.0</td>\n",
       "      <td>1912.0</td>\n",
       "    </tr>\n",
       "    <tr>\n",
       "      <th>647</th>\n",
       "      <td>51720</td>\n",
       "      <td>2020-06-27</td>\n",
       "      <td>West Bengal</td>\n",
       "      <td>India</td>\n",
       "      <td>16711.0</td>\n",
       "      <td>629.0</td>\n",
       "      <td>10789.0</td>\n",
       "    </tr>\n",
       "  </tbody>\n",
       "</table>\n",
       "<p>648 rows × 7 columns</p>\n",
       "</div>"
      ],
      "text/plain": [
       "     index       Date                        State Country  Confirmed Cases  \\\n",
       "0    38811 2020-06-10  Andaman and Nicobar Islands   India             33.0   \n",
       "1    38812 2020-06-10               Andhra Pradesh   India           5070.0   \n",
       "2    38828 2020-06-10            Arunachal Pradesh   India             57.0   \n",
       "3    38829 2020-06-10                        Assam   India           2937.0   \n",
       "4    38851 2020-06-10                        Bihar   India           5459.0   \n",
       "..     ...        ...                          ...     ...              ...   \n",
       "643  51672 2020-06-27                      Tripura   India           1334.0   \n",
       "644  51686 2020-06-27                      Unknown   India           7839.0   \n",
       "645  51693 2020-06-27                Uttar Pradesh   India          21549.0   \n",
       "646  51694 2020-06-27                  Uttarakhand   India           2791.0   \n",
       "647  51720 2020-06-27                  West Bengal   India          16711.0   \n",
       "\n",
       "     Deaths  Recovered  \n",
       "0       0.0       33.0  \n",
       "1      77.0     2802.0  \n",
       "2       0.0        1.0  \n",
       "3       4.0     1085.0  \n",
       "4      32.0     2864.0  \n",
       "..      ...        ...  \n",
       "643     1.0     1071.0  \n",
       "644     0.0        0.0  \n",
       "645   649.0    14215.0  \n",
       "646    37.0     1912.0  \n",
       "647   629.0    10789.0  \n",
       "\n",
       "[648 rows x 7 columns]"
      ]
     },
     "execution_count": 37,
     "metadata": {},
     "output_type": "execute_result"
    }
   ],
   "source": [
    "#After looking at the graph one can actully see the variation post june mid, So we're gonna check the graph further\n",
    "\n",
    "june_cases=india_cases[(india_cases['Date'] > '2020-06-09') & (india_cases['Date'] <= '2020-06-27')]\n",
    "june_cases.reset_index()"
   ]
  },
  {
   "cell_type": "code",
   "execution_count": 38,
   "metadata": {},
   "outputs": [
    {
     "name": "stdout",
     "output_type": "stream",
     "text": [
      "44.0       15\n",
      "70.0        5\n",
      "135.0       4\n",
      "38.0        4\n",
      "502.0       3\n",
      "           ..\n",
      "10635.0     1\n",
      "6824.0      1\n",
      "1086.0      1\n",
      "4055.0      1\n",
      "33.0        1\n",
      "Name: Confirmed Cases, Length: 543, dtype: int64\n"
     ]
    }
   ],
   "source": [
    "print(june_cases['Confirmed Cases'].value_counts())"
   ]
  },
  {
   "cell_type": "code",
   "execution_count": 39,
   "metadata": {},
   "outputs": [],
   "source": [
    "june_dates=list(june_cases['Date'].dt.day)"
   ]
  },
  {
   "cell_type": "code",
   "execution_count": 40,
   "metadata": {},
   "outputs": [
    {
     "data": {
      "text/plain": [
       "<matplotlib.axes._subplots.AxesSubplot at 0x1d9b0b6f608>"
      ]
     },
     "execution_count": 40,
     "metadata": {},
     "output_type": "execute_result"
    },
    {
     "data": {
      "image/png": "[encoded data removed]",
      "text/plain": [
       "<Figure size 432x288 with 1 Axes>"
      ]
     },
     "metadata": {
      "needs_background": "light"
     },
     "output_type": "display_data"
    }
   ],
   "source": [
    "june_cases.plot(x='Date',y='Confirmed Cases')"
   ]
  },
  {
   "cell_type": "code",
   "execution_count": 41,
   "metadata": {},
   "outputs": [
    {
     "name": "stdout",
     "output_type": "stream",
     "text": [
      "                                          Confirmed Cases   Deaths  Recovered\n",
      "State                                                                        \n",
      "Andaman and Nicobar Islands                         855.0      0.0      654.0\n",
      "Andhra Pradesh                                   145234.0   1855.0    71349.0\n",
      "Arunachal Pradesh                                  2048.0      3.0      303.0\n",
      "Assam                                             87205.0    146.0    50169.0\n",
      "Bihar                                            129846.0    845.0    90225.0\n",
      "Chandigarh                                         6836.0    103.0     5550.0\n",
      "Chhattisgarh                                      35294.0    173.0    21243.0\n",
      "Dadar Nagar Haveli                                   22.0      0.0        2.0\n",
      "Dadra and Nagar Haveli and Daman and Diu           1365.0      0.0      327.0\n",
      "Delhi                                            961526.0  33370.0   483776.0\n",
      "Goa                                               12880.0     10.0     2862.0\n",
      "Gujarat                                          465513.0  28496.0   328587.0\n",
      "Haryana                                          168202.0   2418.0    86534.0\n",
      "Himachal Pradesh                                  11506.0    136.0     6958.0\n",
      "Jammu and Kashmir                                101074.0   1293.0    54119.0\n",
      "Jharkhand                                         34777.0    180.0    21286.0\n",
      "Karnataka                                        151026.0   2159.0    89001.0\n",
      "Kerala                                            53129.0    365.0    26229.0\n",
      "Ladakh                                            11616.0     18.0     2818.0\n",
      "Madhya Pradesh                                   206458.0   8807.0   152526.0\n",
      "Maharashtra                                     2215193.0  97993.0  1111152.0\n",
      "Manipur                                           12329.0      0.0     3791.0\n",
      "Meghalaya                                           803.0     18.0      544.0\n",
      "Mizoram                                            2266.0      0.0      180.0\n",
      "Nagaland                                           4124.0      0.0     1889.0\n",
      "Odisha                                            83911.0    229.0    59772.0\n",
      "Puducherry                                         5515.0    109.0     2208.0\n",
      "Punjab                                            68191.0   1583.0    48004.0\n",
      "Rajasthan                                        253376.0   5849.0   194827.0\n",
      "Sikkim                                             1162.0      0.0      303.0\n",
      "Tamil Nadu                                       981544.0  11490.0   540587.0\n",
      "Telangana                                        131302.0   3582.0    60152.0\n",
      "Tripura                                           20454.0     18.0    11129.0\n",
      "Unknown                                          149722.0      0.0        0.0\n",
      "Uttar Pradesh                                    288297.0   8645.0   179606.0\n",
      "Uttarakhand                                       38833.0    471.0    24227.0\n",
      "West Bengal                                      231275.0   9432.0   127986.0\n"
     ]
    }
   ],
   "source": [
    "grouped=june_cases.groupby('State').sum()\n",
    "print(grouped)"
   ]
  },
  {
   "cell_type": "code",
   "execution_count": 42,
   "metadata": {},
   "outputs": [
    {
     "data": {
      "text/plain": [
       "<matplotlib.axes._subplots.AxesSubplot at 0x1d9b0becf48>"
      ]
     },
     "execution_count": 42,
     "metadata": {},
     "output_type": "execute_result"
    },
    {
     "data": {
      "image/png": "[encoded data removed]",
      "text/plain": [
       "<Figure size 432x288 with 1 Axes>"
      ]
     },
     "metadata": {
      "needs_background": "light"
     },
     "output_type": "display_data"
    }
   ],
   "source": [
    "grouped.plot(kind='bar',x=None,y=['Confirmed Cases','Deaths','Recovered'])"
   ]
  },
  {
   "cell_type": "code",
   "execution_count": null,
   "metadata": {},
   "outputs": [],
   "source": []
  }
 ],
 "metadata": {
  "kernelspec": {
   "display_name": "Python 3",
   "language": "python",
   "name": "python3"
  },
  "language_info": {
   "codemirror_mode": {
    "name": "ipython",
    "version": 3
   },
   "file_extension": ".py",
   "mimetype": "text/x-python",
   "name": "python",
   "nbconvert_exporter": "python",
   "pygments_lexer": "ipython3",
   "version": "3.7.6"
  }
 },
 "nbformat": 4,
 "nbformat_minor": 4
}
